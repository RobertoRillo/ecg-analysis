{
  "cells": [
    {
      "cell_type": "markdown",
      "metadata": {
        "id": "x_XdeXYvUVjb"
      },
      "source": [
        "Cargar las df, hacer merge y shuffle"
      ]
    },
    {
      "cell_type": "code",
      "execution_count": 1,
      "metadata": {
        "id": "ffCzqu3njJD_"
      },
      "outputs": [],
      "source": [
        "import pandas as pd\n",
        "from sklearn.model_selection import StratifiedKFold\n",
        "from sklearn.preprocessing import StandardScaler\n",
        "from sklearn.ensemble import RandomForestClassifier, GradientBoostingClassifier\n",
        "from imblearn.over_sampling import SMOTE\n",
        "from sklearn.metrics import classification_report\n",
        "import numpy as np\n",
        "\n",
        "normal_df = pd.read_csv('data/ptbdb_normal.csv', header=None)\n",
        "abnormal_df = pd.read_csv('data/ptbdb_abnormal.csv', header=None)\n",
        "\n",
        "df = pd.concat([normal_df, abnormal_df], axis=0).sample(frac=1).reset_index(drop=True)\n",
        "\n",
        "X = df.iloc[:, :-1]\n",
        "y = df.iloc[:, -1]   # The last column as labels (0 = normal, 1 = abnormal)\n",
        "\n",
        "\n"
      ]
    },
    {
      "cell_type": "markdown",
      "metadata": {
        "id": "5HE3lrZ-Uana"
      },
      "source": [
        "Contar las instancias"
      ]
    },
    {
      "cell_type": "code",
      "execution_count": 4,
      "metadata": {
        "colab": {
          "base_uri": "https://localhost:8080/",
          "height": 499
        },
        "id": "4Bu5Q8NdRvE9",
        "outputId": "0ad325c6-de23-4a30-aef6-d2588bc5538b"
      },
      "outputs": [
        {
          "name": "stdout",
          "output_type": "stream",
          "text": [
            "Conteo de instancias de cada clase:\n",
            "187\n",
            "1.0    10506\n",
            "0.0     4046\n",
            "Name: count, dtype: int64\n"
          ]
        },
        {
          "data": {
            "image/png": "[encoded data removed]",
            "text/plain": [
              "<Figure size 600x400 with 1 Axes>"
            ]
          },
          "metadata": {},
          "output_type": "display_data"
        }
      ],
      "source": [
        "import pandas as pd\n",
        "import matplotlib.pyplot as plt\n",
        "\n",
        "# Contar la cantidad de instancias de cada clase (0 = normal, 1 = abnormal)\n",
        "class_counts = df.iloc[:, -1].value_counts()\n",
        "\n",
        "print(\"Conteo de instancias de cada clase:\")\n",
        "print(class_counts)\n",
        "\n",
        "plt.figure(figsize=(6, 4))\n",
        "class_counts.plot(kind='bar', color=['skyblue', 'salmon'])\n",
        "plt.title('Conteo de Instancias por Clase')\n",
        "plt.xlabel('Clase (0 = Normal, 1 = Abnormal)')\n",
        "plt.ylabel('Número de Instancias')\n",
        "plt.xticks(rotation=0)\n",
        "plt.show()\n"
      ]
    },
    {
      "cell_type": "markdown",
      "metadata": {
        "id": "1KiU-Ku0UdfR"
      },
      "source": [
        "Probar el modelo con SMOTE"
      ]
    },
    {
      "cell_type": "code",
      "execution_count": 2,
      "metadata": {
        "colab": {
          "base_uri": "https://localhost:8080/",
          "height": 579
        },
        "id": "ExbedazVj_0M",
        "outputId": "b9c357ce-9e3f-4755-a319-b90121f7f193"
      },
      "outputs": [
        {
          "name": "stdout",
          "output_type": "stream",
          "text": [
            "----- Random Forest -----\n",
            "              precision    recall  f1-score   support\n",
            "\n",
            "         0.0       0.94      0.95      0.95      4046\n",
            "         1.0       0.98      0.98      0.98     10506\n",
            "\n",
            "    accuracy                           0.97     14552\n",
            "   macro avg       0.96      0.97      0.96     14552\n",
            "weighted avg       0.97      0.97      0.97     14552\n",
            "\n"
          ]
        }
      ],
      "source": [
        "scaler = StandardScaler()\n",
        "X_scaled = scaler.fit_transform(X)\n",
        "\n",
        "models = {\n",
        "    'Random Forest': RandomForestClassifier(),\n",
        "}\n",
        "\n",
        "kf = StratifiedKFold(n_splits=5, shuffle=True)\n",
        "\n",
        "for model_name, model in models.items():\n",
        "    print(f'----- {model_name} -----')\n",
        "    cv_y_test = []\n",
        "    cv_y_pred = []\n",
        "\n",
        "    for train_index, test_index in kf.split(X, y):\n",
        "        x_train = X.iloc[train_index, :]\n",
        "        y_train = y.iloc[train_index]\n",
        "        x_test = X.iloc[test_index, :]\n",
        "        y_test = y.iloc[test_index]\n",
        "\n",
        "        x_train_scaled = scaler.fit_transform(x_train)\n",
        "        x_test_scaled = scaler.transform(x_test)\n",
        "\n",
        "        # Apply SMOTE for balancing the training set\n",
        "        smote = SMOTE()\n",
        "        x_train_res, y_train_res = smote.fit_resample(x_train_scaled, y_train)\n",
        "\n",
        "        model.fit(x_train_res, y_train_res)\n",
        "\n",
        "        y_pred = model.predict(x_test_scaled)\n",
        "\n",
        "        cv_y_test.append(y_test)\n",
        "        cv_y_pred.append(y_pred)\n",
        "\n",
        "    print(classification_report(np.concatenate(cv_y_test), np.concatenate(cv_y_pred)))"
      ]
    },
    {
      "cell_type": "markdown",
      "metadata": {
        "id": "O0pPZc9IUgoh"
      },
      "source": [
        "Probar el modelo sin SMOTE"
      ]
    },
    {
      "cell_type": "code",
      "execution_count": 3,
      "metadata": {
        "colab": {
          "base_uri": "https://localhost:8080/",
          "height": 579
        },
        "id": "qq0wgJndUjOl",
        "outputId": "2c42f707-8bba-4799-ec61-46d7f8da3152"
      },
      "outputs": [
        {
          "name": "stdout",
          "output_type": "stream",
          "text": [
            "----- Random Forest -----\n",
            "              precision    recall  f1-score   support\n",
            "\n",
            "         0.0       0.97      0.93      0.95      4046\n",
            "         1.0       0.97      0.99      0.98     10506\n",
            "\n",
            "    accuracy                           0.97     14552\n",
            "   macro avg       0.97      0.96      0.97     14552\n",
            "weighted avg       0.97      0.97      0.97     14552\n",
            "\n"
          ]
        }
      ],
      "source": [
        "from sklearn.model_selection import StratifiedKFold\n",
        "from sklearn.preprocessing import StandardScaler\n",
        "from sklearn.ensemble import RandomForestClassifier, GradientBoostingClassifier\n",
        "from sklearn.metrics import classification_report\n",
        "import numpy as np\n",
        "\n",
        "# Step 3: Preprocess data\n",
        "scaler = StandardScaler()\n",
        "X_scaled = scaler.fit_transform(X)\n",
        "\n",
        "# Step 4: Model training and evaluation with cross-validation\n",
        "models = {\n",
        "    'Random Forest': RandomForestClassifier(),\n",
        "}\n",
        "\n",
        "kf = StratifiedKFold(n_splits=5, shuffle=True)\n",
        "\n",
        "for model_name, model in models.items():\n",
        "    print(f'----- {model_name} -----')\n",
        "    cv_y_test = []\n",
        "    cv_y_pred = []\n",
        "\n",
        "    for train_index, test_index in kf.split(X, y):\n",
        "        # Separate training and test data\n",
        "        x_train = X.iloc[train_index, :]\n",
        "        y_train = y.iloc[train_index]\n",
        "        x_test = X.iloc[test_index, :]\n",
        "        y_test = y.iloc[test_index]\n",
        "\n",
        "        # Scale the data\n",
        "        x_train_scaled = scaler.fit_transform(x_train)\n",
        "        x_test_scaled = scaler.transform(x_test)\n",
        "\n",
        "        # Train the model without balancing\n",
        "        model.fit(x_train_scaled, y_train)\n",
        "\n",
        "        # Predict on the test set\n",
        "        y_pred = model.predict(x_test_scaled)\n",
        "\n",
        "        cv_y_test.append(y_test)\n",
        "        cv_y_pred.append(y_pred)\n",
        "\n",
        "    # Print classification report\n",
        "    print(classification_report(np.concatenate(cv_y_test), np.concatenate(cv_y_pred)))\n"
      ]
    },
    {
      "cell_type": "markdown",
      "metadata": {
        "id": "f8DA98WnWTdl"
      },
      "source": [
        "Probar que no tengamos overfitting."
      ]
    },
    {
      "cell_type": "code",
      "execution_count": null,
      "metadata": {
        "colab": {
          "base_uri": "https://localhost:8080/"
        },
        "id": "nMQLIhCWWVjl",
        "outputId": "6ae6f0c0-59db-47bf-cb4a-378f15cb99be"
      },
      "outputs": [
        {
          "name": "stdout",
          "output_type": "stream",
          "text": [
            "----- Random Forest -----\n",
            "              precision    recall  f1-score   support\n",
            "\n",
            "         0.0       0.96      0.92      0.94      3237\n",
            "         1.0       0.97      0.99      0.98      8404\n",
            "\n",
            "    accuracy                           0.97     11641\n",
            "   macro avg       0.97      0.96      0.96     11641\n",
            "weighted avg       0.97      0.97      0.97     11641\n",
            "\n",
            "----- Random Forest en el conjunto de prueba -----\n",
            "              precision    recall  f1-score   support\n",
            "\n",
            "         0.0       0.98      0.92      0.95       809\n",
            "         1.0       0.97      0.99      0.98      2102\n",
            "\n",
            "    accuracy                           0.97      2911\n",
            "   macro avg       0.97      0.96      0.96      2911\n",
            "weighted avg       0.97      0.97      0.97      2911\n",
            "\n"
          ]
        }
      ],
      "source": [
        "from sklearn.model_selection import train_test_split, StratifiedKFold\n",
        "from sklearn.preprocessing import StandardScaler\n",
        "from sklearn.ensemble import RandomForestClassifier, GradientBoostingClassifier\n",
        "from sklearn.metrics import classification_report\n",
        "import numpy as np\n",
        "import pandas as pd\n",
        "\n",
        "# Step 1: Dividir la base de datos en entrenamiento (80%) y prueba (20%)\n",
        "X_train, X_test, y_train, y_test = train_test_split(X, y, test_size=0.2, random_state=42, stratify=y)\n",
        "\n",
        "# Step 2: Preprocesar los datos\n",
        "scaler = StandardScaler()\n",
        "X_train_scaled = scaler.fit_transform(X_train)\n",
        "X_test_scaled = scaler.transform(X_test)\n",
        "\n",
        "# Step 3: Definir los modelos\n",
        "models = {\n",
        "    'Random Forest': RandomForestClassifier(),\n",
        "}\n",
        "\n",
        "# Step 4: Evaluación del modelo con validación cruzada\n",
        "kf = StratifiedKFold(n_splits=5, shuffle=True, random_state=42)\n",
        "\n",
        "for model_name, model in models.items():\n",
        "    print(f'----- {model_name} -----')\n",
        "    cv_y_test = []\n",
        "    cv_y_pred = []\n",
        "\n",
        "    for train_index, test_index in kf.split(X_train_scaled, y_train):\n",
        "        # Separar datos de entrenamiento y validación dentro del conjunto de entrenamiento\n",
        "        x_train_fold, x_val_fold = X_train_scaled[train_index], X_train_scaled[test_index]\n",
        "        y_train_fold, y_val_fold = y_train.iloc[train_index], y_train.iloc[test_index]\n",
        "\n",
        "        # Entrenar el modelo\n",
        "        model.fit(x_train_fold, y_train_fold)\n",
        "\n",
        "        # Predecir en el conjunto de validación\n",
        "        y_pred_fold = model.predict(x_val_fold)\n",
        "\n",
        "        cv_y_test.append(y_val_fold)\n",
        "        cv_y_pred.append(y_pred_fold)\n",
        "\n",
        "    # Imprimir informe de clasificación basado en validación cruzada\n",
        "    print(classification_report(np.concatenate(cv_y_test), np.concatenate(cv_y_pred)))\n",
        "\n",
        "# Step 5: Evaluación final en el conjunto de prueba\n",
        "for model_name, model in models.items():\n",
        "    print(f'----- {model_name} en el conjunto de prueba -----')\n",
        "\n",
        "    # Entrenar el modelo con todos los datos de entrenamiento\n",
        "    model.fit(X_train_scaled, y_train)\n",
        "\n",
        "    # Predecir en el conjunto de prueba\n",
        "    y_test_pred = model.predict(X_test_scaled)\n",
        "\n",
        "    # Imprimir informe de clasificación\n",
        "    print(classification_report(y_test, y_test_pred))\n"
      ]
    },
    {
      "cell_type": "code",
      "execution_count": 2,
      "metadata": {},
      "outputs": [
        {
          "name": "stdout",
          "output_type": "stream",
          "text": [
            "----- Random Forest -----\n",
            "              precision    recall  f1-score   support\n",
            "\n",
            "         0.0       0.78      0.74      0.76      3237\n",
            "         1.0       0.90      0.92      0.91      8404\n",
            "\n",
            "    accuracy                           0.87     11641\n",
            "   macro avg       0.84      0.83      0.83     11641\n",
            "weighted avg       0.87      0.87      0.87     11641\n",
            "\n",
            "----- Random Forest en el conjunto de prueba -----\n",
            "              precision    recall  f1-score   support\n",
            "\n",
            "         0.0       0.79      0.76      0.77       809\n",
            "         1.0       0.91      0.92      0.91      2102\n",
            "\n",
            "    accuracy                           0.88      2911\n",
            "   macro avg       0.85      0.84      0.84      2911\n",
            "weighted avg       0.88      0.88      0.88      2911\n",
            "\n"
          ]
        },
        {
          "data": {
            "image/png": "[encoded data removed]",
            "text/plain": [
              "<Figure size 640x480 with 2 Axes>"
            ]
          },
          "metadata": {},
          "output_type": "display_data"
        }
      ],
      "source": [
        "from sklearn.model_selection import train_test_split, StratifiedKFold\n",
        "from sklearn.preprocessing import StandardScaler\n",
        "from sklearn.ensemble import RandomForestClassifier, GradientBoostingClassifier\n",
        "from sklearn.linear_model import LogisticRegression\n",
        "from sklearn.metrics import classification_report, confusion_matrix, ConfusionMatrixDisplay\n",
        "import numpy as np\n",
        "import pandas as pd\n",
        "import matplotlib.pyplot as plt\n",
        "\n",
        "# Step 1: Dividir la base de datos en entrenamiento (80%) y prueba (20%)\n",
        "X_train, X_test, y_train, y_test = train_test_split(X, y, test_size=0.2, random_state=42, stratify=y)\n",
        "\n",
        "# Step 2: Preprocesar los datos\n",
        "scaler = StandardScaler()\n",
        "X_train_scaled = scaler.fit_transform(X_train)\n",
        "X_test_scaled = scaler.transform(X_test)\n",
        "\n",
        "# Step 3: Definir los modelos con regularización y/o simplificación\n",
        "models = {\n",
        "    'Random Forest': RandomForestClassifier(max_depth=5, min_samples_leaf=10),  # Pruning parameters added\n",
        "}\n",
        "\n",
        "# Step 4: Evaluación del modelo con validación cruzada\n",
        "kf = StratifiedKFold(n_splits=5, shuffle=True, random_state=42)\n",
        "\n",
        "for model_name, model in models.items():\n",
        "    print(f'----- {model_name} -----')\n",
        "    cv_y_test = []\n",
        "    cv_y_pred = []\n",
        "\n",
        "    for train_index, test_index in kf.split(X_train_scaled, y_train):\n",
        "        # Separar datos de entrenamiento y validación dentro del conjunto de entrenamiento\n",
        "        x_train_fold, x_val_fold = X_train_scaled[train_index], X_train_scaled[test_index]\n",
        "        y_train_fold, y_val_fold = y_train.iloc[train_index], y_train.iloc[test_index]\n",
        "\n",
        "        # Entrenar el modelo\n",
        "        model.fit(x_train_fold, y_train_fold)\n",
        "\n",
        "        # Predecir en el conjunto de validación\n",
        "        y_pred_fold = model.predict(x_val_fold)\n",
        "\n",
        "        cv_y_test.append(y_val_fold)\n",
        "        cv_y_pred.append(y_pred_fold)\n",
        "\n",
        "    # Imprimir informe de clasificación basado en validación cruzada\n",
        "    print(classification_report(np.concatenate(cv_y_test), np.concatenate(cv_y_pred)))\n",
        "\n",
        "# Step 5: Evaluación final en el conjunto de prueba y mostrar matriz de confusión\n",
        "for model_name, model in models.items():\n",
        "    print(f'----- {model_name} en el conjunto de prueba -----')\n",
        "\n",
        "    # Entrenar el modelo con todos los datos de entrenamiento\n",
        "    model.fit(X_train_scaled, y_train)\n",
        "\n",
        "    # Predecir en el conjunto de prueba\n",
        "    y_test_pred = model.predict(X_test_scaled)\n",
        "\n",
        "    # Imprimir informe de clasificación\n",
        "    print(classification_report(y_test, y_test_pred))\n",
        "\n",
        "    # Generar y mostrar la matriz de confusión\n",
        "    cm = confusion_matrix(y_test, y_test_pred)\n",
        "    disp = ConfusionMatrixDisplay(confusion_matrix=cm, display_labels=model.classes_)\n",
        "    disp.plot(cmap=plt.cm.Blues)\n",
        "    plt.title(f'Matriz de Confusión para {model_name}')\n",
        "    plt.show()\n"
      ]
    },
    {
      "cell_type": "markdown",
      "metadata": {},
      "source": [
        "Buscar Hiperparametros"
      ]
    },
    {
      "cell_type": "code",
      "execution_count": 5,
      "metadata": {},
      "outputs": [
        {
          "name": "stdout",
          "output_type": "stream",
          "text": [
            "Fitting 5 folds for each of 20 candidates, totalling 100 fits\n",
            "Mejores hiperparámetros: {'n_estimators': 250, 'min_samples_split': 2, 'min_samples_leaf': 1, 'max_features': 'log2', 'max_depth': None, 'bootstrap': False}\n"
          ]
        }
      ],
      "source": [
        "from sklearn.model_selection import RandomizedSearchCV\n",
        "import numpy as np\n",
        "\n",
        "# Step 1: Dividir la base de datos en entrenamiento (80%) y prueba (20%)\n",
        "X_train, X_test, y_train, y_test = train_test_split(X, y, test_size=0.2, random_state=42, stratify=y)\n",
        "\n",
        "# Step 2: Preprocesar los datos\n",
        "scaler = StandardScaler()\n",
        "X_train_scaled = scaler.fit_transform(X_train)\n",
        "X_test_scaled = scaler.transform(X_test)\n",
        "\n",
        "\n",
        "# Definir los parámetros para la búsqueda aleatoria\n",
        "param_dist = {\n",
        "    'n_estimators': np.arange(100, 301, 50),             \n",
        "    'max_depth': [None, 10, 20, 30],             \n",
        "    'min_samples_split': np.arange(2, 11, 3),             \n",
        "    'min_samples_leaf': [1, 2, 4],               \n",
        "    'max_features': ['sqrt', 'log2', None],      \n",
        "    'bootstrap': [True, False]                   \n",
        "}\n",
        "\n",
        "# Crear el modelo de Random Forest\n",
        "rf = RandomForestClassifier(random_state=42)\n",
        "\n",
        "# Configurar RandomizedSearchCV\n",
        "random_search = RandomizedSearchCV(estimator=rf, param_distributions=param_dist, n_iter=20, cv=5, scoring='precision', n_jobs=-1, verbose=2, random_state=42)\n",
        "\n",
        "# Entrenar el modelo con la búsqueda aleatoria\n",
        "random_search.fit(X_train_scaled, y_train)\n",
        "\n",
        "# Imprimir los mejores parámetros encontrados\n",
        "print(f\"Mejores hiperparámetros: {random_search.best_params_}\")"
      ]
    },
    {
      "cell_type": "markdown",
      "metadata": {},
      "source": [
        "Probar modelo con hiperparametros"
      ]
    },
    {
      "cell_type": "code",
      "execution_count": 6,
      "metadata": {},
      "outputs": [
        {
          "name": "stdout",
          "output_type": "stream",
          "text": [
            "----- Random Forest -----\n",
            "              precision    recall  f1-score   support\n",
            "\n",
            "         0.0       0.98      0.93      0.95      3237\n",
            "         1.0       0.97      0.99      0.98      8404\n",
            "\n",
            "    accuracy                           0.97     11641\n",
            "   macro avg       0.98      0.96      0.97     11641\n",
            "weighted avg       0.97      0.97      0.97     11641\n",
            "\n",
            "----- Random Forest en el conjunto de prueba -----\n",
            "              precision    recall  f1-score   support\n",
            "\n",
            "         0.0       0.97      0.92      0.95       809\n",
            "         1.0       0.97      0.99      0.98      2102\n",
            "\n",
            "    accuracy                           0.97      2911\n",
            "   macro avg       0.97      0.96      0.96      2911\n",
            "weighted avg       0.97      0.97      0.97      2911\n",
            "\n"
          ]
        },
        {
          "data": {
            "image/png": "[encoded data removed]",
            "text/plain": [
              "<Figure size 640x480 with 2 Axes>"
            ]
          },
          "metadata": {},
          "output_type": "display_data"
        }
      ],
      "source": [
        "from sklearn.model_selection import train_test_split, StratifiedKFold\n",
        "from sklearn.preprocessing import StandardScaler\n",
        "from sklearn.ensemble import RandomForestClassifier\n",
        "from sklearn.metrics import classification_report, confusion_matrix, ConfusionMatrixDisplay\n",
        "import numpy as np\n",
        "import pandas as pd\n",
        "import matplotlib.pyplot as plt\n",
        "\n",
        "# Step 1: Dividir la base de datos en entrenamiento (80%) y prueba (20%)\n",
        "X_train, X_test, y_train, y_test = train_test_split(X, y, test_size=0.2, random_state=42, stratify=y)\n",
        "\n",
        "# Step 2: Preprocesar los datos\n",
        "scaler = StandardScaler()\n",
        "X_train_scaled = scaler.fit_transform(X_train)\n",
        "X_test_scaled = scaler.transform(X_test)\n",
        "\n",
        "# Step 3: Definir los modelos con los mejores hiperparámetros\n",
        "models = {\n",
        "    'Random Forest': RandomForestClassifier(\n",
        "        n_estimators=250,       # Mejor número de árboles\n",
        "        max_depth=None,         # Sin límite de profundidad\n",
        "        min_samples_split=2,    # Mínimo de muestras para dividir un nodo\n",
        "        min_samples_leaf=1,     # Mínimo de muestras en cada hoja\n",
        "        max_features='log2',    # Máximo número de características para dividir\n",
        "        bootstrap=False,        # No reutilizar muestras en el bosque\n",
        "        random_state=42         # Para replicabilidad\n",
        "    )\n",
        "}\n",
        "\n",
        "# Step 4: Evaluación del modelo con validación cruzada\n",
        "kf = StratifiedKFold(n_splits=5, shuffle=True, random_state=42)\n",
        "\n",
        "for model_name, model in models.items():\n",
        "    print(f'----- {model_name} -----')\n",
        "    cv_y_test = []\n",
        "    cv_y_pred = []\n",
        "\n",
        "    for train_index, test_index in kf.split(X_train_scaled, y_train):\n",
        "        # Separar datos de entrenamiento y validación dentro del conjunto de entrenamiento\n",
        "        x_train_fold, x_val_fold = X_train_scaled[train_index], X_train_scaled[test_index]\n",
        "        y_train_fold, y_val_fold = y_train.iloc[train_index], y_train.iloc[test_index]\n",
        "\n",
        "        # Entrenar el modelo\n",
        "        model.fit(x_train_fold, y_train_fold)\n",
        "\n",
        "        # Predecir en el conjunto de validación\n",
        "        y_pred_fold = model.predict(x_val_fold)\n",
        "\n",
        "        cv_y_test.append(y_val_fold)\n",
        "        cv_y_pred.append(y_pred_fold)\n",
        "\n",
        "    # Imprimir informe de clasificación basado en validación cruzada\n",
        "    print(classification_report(np.concatenate(cv_y_test), np.concatenate(cv_y_pred)))\n",
        "\n",
        "# Step 5: Evaluación final en el conjunto de prueba y mostrar matriz de confusión\n",
        "for model_name, model in models.items():\n",
        "    print(f'----- {model_name} en el conjunto de prueba -----')\n",
        "\n",
        "    # Entrenar el modelo con todos los datos de entrenamiento\n",
        "    model.fit(X_train_scaled, y_train)\n",
        "\n",
        "    # Predecir en el conjunto de prueba\n",
        "    y_test_pred = model.predict(X_test_scaled)\n",
        "\n",
        "    # Imprimir informe de clasificación\n",
        "    print(classification_report(y_test, y_test_pred))\n",
        "\n",
        "    # Generar y mostrar la matriz de confusión\n",
        "    cm = confusion_matrix(y_test, y_test_pred)\n",
        "    disp = ConfusionMatrixDisplay(confusion_matrix=cm, display_labels=model.classes_)\n",
        "    disp.plot(cmap=plt.cm.Blues)\n",
        "    plt.title(f'Matriz de Confusión para {model_name}')\n",
        "    plt.show()\n"
      ]
    },
    {
      "cell_type": "markdown",
      "metadata": {},
      "source": [
        "Support Vector Classifier"
      ]
    },
    {
      "cell_type": "markdown",
      "metadata": {
        "id": "r3pb8Xl2ciJO"
      },
      "source": [
        "Observamos que el modelo se equivoca poco."
      ]
    },
    {
      "cell_type": "code",
      "execution_count": null,
      "metadata": {
        "colab": {
          "base_uri": "https://localhost:8080/",
          "height": 829
        },
        "id": "gRxr1frkdpvr",
        "outputId": "8164e3b2-cedd-4e46-b1b0-d41a209a07d6"
      },
      "outputs": [
        {
          "name": "stdout",
          "output_type": "stream",
          "text": [
            "----- Support Vector Classifier (SVC) -----\n",
            "              precision    recall  f1-score   support\n",
            "\n",
            "         0.0       0.87      0.81      0.84      3237\n",
            "         1.0       0.93      0.96      0.94      8404\n",
            "\n",
            "    accuracy                           0.91     11641\n",
            "   macro avg       0.90      0.88      0.89     11641\n",
            "weighted avg       0.91      0.91      0.91     11641\n",
            "\n",
            "----- Support Vector Classifier (SVC) en el conjunto de prueba -----\n",
            "              precision    recall  f1-score   support\n",
            "\n",
            "         0.0       0.90      0.82      0.86       809\n",
            "         1.0       0.93      0.96      0.95      2102\n",
            "\n",
            "    accuracy                           0.93      2911\n",
            "   macro avg       0.92      0.89      0.90      2911\n",
            "weighted avg       0.92      0.93      0.92      2911\n",
            "\n"
          ]
        },
        {
          "data": {
            "image/png": "[encoded data removed]",
            "text/plain": [
              "<Figure size 640x480 with 2 Axes>"
            ]
          },
          "metadata": {},
          "output_type": "display_data"
        }
      ],
      "source": [
        "from sklearn.model_selection import train_test_split, StratifiedKFold\n",
        "from sklearn.preprocessing import StandardScaler\n",
        "from sklearn.ensemble import RandomForestClassifier, GradientBoostingClassifier\n",
        "from sklearn.linear_model import LogisticRegression\n",
        "from sklearn.svm import SVC\n",
        "from sklearn.metrics import classification_report, confusion_matrix, ConfusionMatrixDisplay\n",
        "import numpy as np\n",
        "import pandas as pd\n",
        "import matplotlib.pyplot as plt\n",
        "\n",
        "# Step 1: Dividir la base de datos en entrenamiento (80%) y prueba (20%)\n",
        "X_train, X_test, y_train, y_test = train_test_split(X, y, test_size=0.2, random_state=42, stratify=y)\n",
        "\n",
        "# Step 2: Preprocesar los datos\n",
        "scaler = StandardScaler()\n",
        "X_train_scaled = scaler.fit_transform(X_train)\n",
        "X_test_scaled = scaler.transform(X_test)\n",
        "\n",
        "# Step 3: Definir los modelos con regularización y/o simplificación\n",
        "models = {\n",
        "    'Support Vector Classifier (SVC)': SVC(kernel='rbf', C=1.0, gamma='scale')  # SVC with RBF kernel\n",
        "}\n",
        "\n",
        "# Step 4: Evaluación del modelo con validación cruzada\n",
        "kf = StratifiedKFold(n_splits=5, shuffle=True, random_state=42)\n",
        "\n",
        "for model_name, model in models.items():\n",
        "    print(f'----- {model_name} -----')\n",
        "    cv_y_test = []\n",
        "    cv_y_pred = []\n",
        "\n",
        "    for train_index, test_index in kf.split(X_train_scaled, y_train):\n",
        "        # Separar datos de entrenamiento y validación dentro del conjunto de entrenamiento\n",
        "        x_train_fold, x_val_fold = X_train_scaled[train_index], X_train_scaled[test_index]\n",
        "        y_train_fold, y_val_fold = y_train.iloc[train_index], y_train.iloc[test_index]\n",
        "\n",
        "        # Entrenar el modelo\n",
        "        model.fit(x_train_fold, y_train_fold)\n",
        "\n",
        "        # Predecir en el conjunto de validación\n",
        "        y_pred_fold = model.predict(x_val_fold)\n",
        "\n",
        "        cv_y_test.append(y_val_fold)\n",
        "        cv_y_pred.append(y_pred_fold)\n",
        "\n",
        "    # Imprimir informe de clasificación basado en validación cruzada\n",
        "    print(classification_report(np.concatenate(cv_y_test), np.concatenate(cv_y_pred)))\n",
        "\n",
        "# Step 5: Evaluación final en el conjunto de prueba y mostrar matriz de confusión\n",
        "for model_name, model in models.items():\n",
        "    print(f'----- {model_name} en el conjunto de prueba -----')\n",
        "\n",
        "    # Entrenar el modelo con todos los datos de entrenamiento\n",
        "    model.fit(X_train_scaled, y_train)\n",
        "\n",
        "    # Predecir en el conjunto de prueba\n",
        "    y_test_pred = model.predict(X_test_scaled)\n",
        "\n",
        "    # Imprimir informe de clasificación\n",
        "    print(classification_report(y_test, y_test_pred))\n",
        "\n",
        "    # Generar y mostrar la matriz de confusión\n",
        "    cm = confusion_matrix(y_test, y_test_pred)\n",
        "    disp = ConfusionMatrixDisplay(confusion_matrix=cm, display_labels=model.classes_)\n",
        "    disp.plot(cmap=plt.cm.Blues)\n",
        "    plt.title(f'Matriz de Confusión para {model_name}')\n",
        "    plt.show()\n"
      ]
    }
  ],
  "metadata": {
    "colab": {
      "provenance": []
    },
    "kernelspec": {
      "display_name": "Python 3",
      "name": "python3"
    },
    "language_info": {
      "codemirror_mode": {
        "name": "ipython",
        "version": 3
      },
      "file_extension": ".py",
      "mimetype": "text/x-python",
      "name": "python",
      "nbconvert_exporter": "python",
      "pygments_lexer": "ipython3",
      "version": "3.12.5"
    }
  },
  "nbformat": 4,
  "nbformat_minor": 0
}
